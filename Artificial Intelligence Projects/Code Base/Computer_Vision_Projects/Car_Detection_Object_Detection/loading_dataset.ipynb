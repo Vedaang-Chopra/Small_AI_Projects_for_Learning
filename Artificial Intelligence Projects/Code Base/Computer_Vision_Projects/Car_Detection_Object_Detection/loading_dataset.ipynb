{
 "cells": [
  {
   "cell_type": "code",
   "execution_count": 5,
   "metadata": {},
   "outputs": [
    {
     "data": {
      "text/plain": [
       "0"
      ]
     },
     "execution_count": 5,
     "metadata": {},
     "output_type": "execute_result"
    }
   ],
   "source": [
    "# Download The Dataset.............\n",
    "# import os \n",
    "# os.system('kaggle datasets download -d jutrera/stanford-car-dataset-by-classes-folder')"
   ]
  },
  {
   "attachments": {},
   "cell_type": "markdown",
   "metadata": {},
   "source": [
    "### Loading the Dataset from Local Directory"
   ]
  },
  {
   "cell_type": "code",
   "execution_count": 7,
   "metadata": {},
   "outputs": [],
   "source": [
    "import os \n",
    "import platform"
   ]
  },
  {
   "cell_type": "code",
   "execution_count": 8,
   "metadata": {},
   "outputs": [],
   "source": [
    "#  Setting Path to Dataset\n",
    "if platform.system().lower().__contains__('windows'):\n",
    "    BASE_PATH_TO_CODE_REPOSITORY=(os.sep).join(os.getcwd().split(os.sep)[:os.getcwd().split(os.sep).index('Code Repository')+1])\n",
    "    BASE_PATH_TO_DATASETS=os.path.join(BASE_PATH_TO_CODE_REPOSITORY,'External_Datasets_for_All_Projects')\n",
    "    KAGGLE_DATASETS=os.path.join(BASE_PATH_TO_DATASETS,'Kaggle_Datasets')\n",
    "    CAR_DETECTION_DATASET=os.path.join(KAGGLE_DATASETS,'Computer_Vision_Car_Detection')\n",
    "elif platform.system().lower().__contains__('linux'):\n",
    "    BASE_PATH_TO_CODE_REPOSITORY=(os.sep).join(os.getcwd().split(os.sep)[:os.getcwd().split(os.sep).index('Code Repository')+1])\n",
    "    BASE_PATH_TO_DATASETS=os.path.join(BASE_PATH_TO_CODE_REPOSITORY,'External_Datasets_for_All_Projects')\n",
    "    KAGGLE_DATASETS=os.path.join(BASE_PATH_TO_DATASETS,'Kaggle_Datasets')\n",
    "    CAR_DETECTION_DATASET=os.path.join(KAGGLE_DATASETS,'Computer_Vision_Car_Detection')\n",
    "else:\n",
    "    print('OS Error')"
   ]
  },
  {
   "cell_type": "code",
   "execution_count": 10,
   "metadata": {},
   "outputs": [
    {
     "data": {
      "text/plain": [
       "['stanford-car-dataset-by-classes-folder.zip']"
      ]
     },
     "execution_count": 10,
     "metadata": {},
     "output_type": "execute_result"
    }
   ],
   "source": [
    "# Unizip the Dataset File\n",
    "PATH_TO_ZIP_FILE=os.listdir(CAR_DETECTION_DATASET)"
   ]
  },
  {
   "cell_type": "code",
   "execution_count": null,
   "metadata": {},
   "outputs": [],
   "source": []
  },
  {
   "cell_type": "code",
   "execution_count": null,
   "metadata": {},
   "outputs": [],
   "source": []
  }
 ],
 "metadata": {
  "kernelspec": {
   "display_name": "base",
   "language": "python",
   "name": "python3"
  },
  "language_info": {
   "codemirror_mode": {
    "name": "ipython",
    "version": 3
   },
   "file_extension": ".py",
   "mimetype": "text/x-python",
   "name": "python",
   "nbconvert_exporter": "python",
   "pygments_lexer": "ipython3",
   "version": "3.8.13"
  },
  "orig_nbformat": 4,
  "vscode": {
   "interpreter": {
    "hash": "b16ced64710a4d8c99ae3dbf0c90823ef6abb92a4bc0ca6e13965003c1eb0fcc"
   }
  }
 },
 "nbformat": 4,
 "nbformat_minor": 2
}
